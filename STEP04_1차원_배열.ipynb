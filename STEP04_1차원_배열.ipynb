{
  "nbformat": 4,
  "nbformat_minor": 0,
  "metadata": {
    "colab": {
      "provenance": [],
      "authorship_tag": "ABX9TyNzUvB6tvvHZRslnvKti3WA",
      "include_colab_link": true
    },
    "kernelspec": {
      "name": "python3",
      "display_name": "Python 3"
    },
    "language_info": {
      "name": "python"
    }
  },
  "cells": [
    {
      "cell_type": "markdown",
      "metadata": {
        "id": "view-in-github",
        "colab_type": "text"
      },
      "source": [
        "<a href=\"https://colab.research.google.com/github/hsu607/BAEKJOON/blob/main/STEP04_1%EC%B0%A8%EC%9B%90_%EB%B0%B0%EC%97%B4.ipynb\" target=\"_parent\"><img src=\"https://colab.research.google.com/assets/colab-badge.svg\" alt=\"Open In Colab\"/></a>"
      ]
    },
    {
      "cell_type": "markdown",
      "source": [
        "## 4단계 1차원 배열(9문제)"
      ],
      "metadata": {
        "id": "6Q8lrQaJ9jHE"
      }
    },
    {
      "cell_type": "markdown",
      "source": [
        "### 10807. 개수 세기"
      ],
      "metadata": {
        "id": "oqEoDKhl9p9N"
      }
    },
    {
      "cell_type": "code",
      "execution_count": 4,
      "metadata": {
        "colab": {
          "base_uri": "https://localhost:8080/"
        },
        "id": "WeKFud3N9T2b",
        "outputId": "a61a1bce-0744-434e-f338-f9a5c34127a6"
      },
      "outputs": [
        {
          "output_type": "stream",
          "name": "stdout",
          "text": [
            "11\n",
            "1 4 1 2 4 2 4 2 3 4 4\n",
            "5\n",
            "0\n"
          ]
        }
      ],
      "source": [
        "n = int(input())\n",
        "data = list(map(int, input().split()))\n",
        "v = int(input())\n",
        "print(data.count(v)) "
      ]
    },
    {
      "cell_type": "markdown",
      "source": [
        "### 10871. X보다 작은 수"
      ],
      "metadata": {
        "id": "tijVX4ej9xlZ"
      }
    },
    {
      "cell_type": "code",
      "source": [
        "n, x = map(int, input().split())\n",
        "a = list(map(int, input().split()))\n",
        "for i in range(n):\n",
        "    if a[i] < x:\n",
        "        print(a[i])"
      ],
      "metadata": {
        "colab": {
          "base_uri": "https://localhost:8080/"
        },
        "id": "6SEB-ZHh91vp",
        "outputId": "cd1d62fb-54dd-4ab5-88a3-9858ace222d0"
      },
      "execution_count": 1,
      "outputs": [
        {
          "output_type": "stream",
          "name": "stdout",
          "text": [
            "10 5\n",
            "1 10 4 9 2 3 8 5 7 6\n",
            "1\n",
            "4\n",
            "2\n",
            "3\n"
          ]
        }
      ]
    },
    {
      "cell_type": "markdown",
      "source": [
        "### 10818. 최소, 최대"
      ],
      "metadata": {
        "id": "8TUV50Ad92DW"
      }
    },
    {
      "cell_type": "code",
      "source": [
        "n = int(input())\n",
        "a = list(map(int, input().split()))\n",
        "print(min(a), max(a))\n"
      ],
      "metadata": {
        "colab": {
          "base_uri": "https://localhost:8080/"
        },
        "id": "4mHYJn2p96Qi",
        "outputId": "87f3ca0a-c749-4aa5-bbcb-6bdeee218015"
      },
      "execution_count": 2,
      "outputs": [
        {
          "output_type": "stream",
          "name": "stdout",
          "text": [
            "5\n",
            "20 10 35 30 7\n",
            "7 35\n"
          ]
        }
      ]
    },
    {
      "cell_type": "markdown",
      "source": [
        "### 2562. 최댓값"
      ],
      "metadata": {
        "id": "3x3BceBn97Qc"
      }
    },
    {
      "cell_type": "code",
      "source": [
        "num = []\n",
        "for i in range(9):\n",
        "    num.append(int(input()))\n",
        "print(max(num))\n",
        "print(num.index(max(num))+1)"
      ],
      "metadata": {
        "colab": {
          "base_uri": "https://localhost:8080/"
        },
        "id": "ISQV1itH9-kV",
        "outputId": "8457dfe8-8f84-4413-ca2d-8127e32569c2"
      },
      "execution_count": 8,
      "outputs": [
        {
          "output_type": "stream",
          "name": "stdout",
          "text": [
            "3\n",
            "29\n",
            "38\n",
            "12\n",
            "57\n",
            "74\n",
            "40\n",
            "85\n",
            "61\n",
            "85\n",
            "8\n"
          ]
        }
      ]
    },
    {
      "cell_type": "markdown",
      "source": [
        "### 5597. 과제 안 내신 분..?"
      ],
      "metadata": {
        "id": "7nKqIXxC9_Xu"
      }
    },
    {
      "cell_type": "code",
      "source": [
        "num = [i for i in range(1,31)]\n",
        "for i in range(28):\n",
        "    num.remove(int(input()))\n",
        "print(num[0])\n",
        "print(num[1])"
      ],
      "metadata": {
        "colab": {
          "base_uri": "https://localhost:8080/"
        },
        "id": "VS469kZc-CrA",
        "outputId": "df5aa4f1-4642-4912-c5b2-498c011764c5"
      },
      "execution_count": 16,
      "outputs": [
        {
          "output_type": "stream",
          "name": "stdout",
          "text": [
            "3\n",
            "1\n",
            "4\n",
            "5\n",
            "7\n",
            "9\n",
            "6\n",
            "10\n",
            "11\n",
            "12\n",
            "13\n",
            "14\n",
            "15\n",
            "16\n",
            "17\n",
            "18\n",
            "19\n",
            "20\n",
            "21\n",
            "22\n",
            "23\n",
            "24\n",
            "25\n",
            "26\n",
            "27\n",
            "28\n",
            "29\n",
            "30\n",
            "2\n",
            "8\n"
          ]
        }
      ]
    },
    {
      "cell_type": "markdown",
      "source": [
        "### 3052. 나머지"
      ],
      "metadata": {
        "id": "xi1_oQr6-DVI"
      }
    },
    {
      "cell_type": "code",
      "source": [
        "num = []\n",
        "for i in range(10):\n",
        "    num.append(int(input())%42)\n",
        "print(len(set(num)))"
      ],
      "metadata": {
        "colab": {
          "base_uri": "https://localhost:8080/"
        },
        "id": "orVxwBuNyWns",
        "outputId": "63614af9-f0f3-4b1c-fc3d-3b787bcca5d1"
      },
      "execution_count": 22,
      "outputs": [
        {
          "output_type": "stream",
          "name": "stdout",
          "text": [
            "1\n",
            "2\n",
            "3\n",
            "4\n",
            "5\n",
            "6\n",
            "7\n",
            "8\n",
            "9\n",
            "10\n",
            "10\n"
          ]
        }
      ]
    },
    {
      "cell_type": "markdown",
      "source": [
        "### 1546. 평균"
      ],
      "metadata": {
        "id": "aHiAEs9w-GqQ"
      }
    },
    {
      "cell_type": "code",
      "source": [
        "n = int(input())\n",
        "a = list(map(int, input().split()))\n",
        "total = 0\n",
        "for i in range(n):\n",
        "    total += a[i]/max(a)*100\n",
        "print(total/n)"
      ],
      "metadata": {
        "colab": {
          "base_uri": "https://localhost:8080/"
        },
        "id": "agCHe_dR-Jmi",
        "outputId": "4263db41-f38b-4c06-849e-5f8653002a5c"
      },
      "execution_count": 2,
      "outputs": [
        {
          "output_type": "stream",
          "name": "stdout",
          "text": [
            "3\n",
            "40 80 60\n",
            "75.0\n"
          ]
        }
      ]
    },
    {
      "cell_type": "markdown",
      "source": [
        "### 8958. OX퀴즈"
      ],
      "metadata": {
        "id": "1Blx9f_Y-JLa"
      }
    },
    {
      "cell_type": "code",
      "source": [
        "n = int(input())\n",
        "for i in range(n):\n",
        "    ox = input()\n",
        "    score = 0\n",
        "    total = 0\n",
        "    for i in range(len(ox)):\n",
        "        if ox[i] == 'O':\n",
        "            score += 1\n",
        "        else:\n",
        "            score = 0\n",
        "        total += score\n",
        "    print(total)"
      ],
      "metadata": {
        "colab": {
          "base_uri": "https://localhost:8080/"
        },
        "id": "mWP-vvKl-PKC",
        "outputId": "bad60584-d110-47ad-d1fa-26032b3c9c8e"
      },
      "execution_count": 26,
      "outputs": [
        {
          "output_type": "stream",
          "name": "stdout",
          "text": [
            "5\n",
            "OOXXOXXOOO\n",
            "10\n",
            "OOXXOOXXOO\n",
            "9\n",
            "OXOXOXOXOXOXOX\n",
            "7\n",
            "OOOOOOOOOO\n",
            "55\n",
            "OOOOXOOOOXOOOOX\n",
            "30\n"
          ]
        }
      ]
    },
    {
      "cell_type": "markdown",
      "source": [
        "### 4344. 평균은 넘겠지"
      ],
      "metadata": {
        "id": "EbqPWIYk-Pnx"
      }
    },
    {
      "cell_type": "code",
      "source": [
        "c = int(input())\n",
        "for i in range(c):\n",
        "    score = list(map(int, input().split()))\n",
        "    n = score.pop(0)\n",
        "    total = 0\n",
        "    for i in range(n):\n",
        "        if score[i] > sum(score)/n:\n",
        "            total += 1\n",
        "    print(f'{100*total/n:.3f}%')"
      ],
      "metadata": {
        "colab": {
          "base_uri": "https://localhost:8080/"
        },
        "id": "2rHzQn3u-Sji",
        "outputId": "a6a1bd94-24e3-448a-eef2-03d3c3b2ba07"
      },
      "execution_count": 10,
      "outputs": [
        {
          "output_type": "stream",
          "name": "stdout",
          "text": [
            "5\n",
            "5 50 50 70 80 100\n",
            "40.000%\n",
            "7 100 95 90 80 70 60 50\n",
            "57.143%\n",
            "3 70 90 80\n",
            "33.333%\n",
            "3 70 90 81\n",
            "66.667%\n",
            "9 100 99 98 97 96 95 94 93 91\n",
            "55.556%\n"
          ]
        }
      ]
    }
  ]
}