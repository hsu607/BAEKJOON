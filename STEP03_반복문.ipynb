{
  "nbformat": 4,
  "nbformat_minor": 0,
  "metadata": {
    "colab": {
      "provenance": [],
      "authorship_tag": "ABX9TyMTnXaHY3kOK7DOvz2JPz8c",
      "include_colab_link": true
    },
    "kernelspec": {
      "name": "python3",
      "display_name": "Python 3"
    },
    "language_info": {
      "name": "python"
    }
  },
  "cells": [
    {
      "cell_type": "markdown",
      "metadata": {
        "id": "view-in-github",
        "colab_type": "text"
      },
      "source": [
        "<a href=\"https://colab.research.google.com/github/hsu607/BAEKJOON/blob/main/STEP03_%EB%B0%98%EB%B3%B5%EB%AC%B8.ipynb\" target=\"_parent\"><img src=\"https://colab.research.google.com/assets/colab-badge.svg\" alt=\"Open In Colab\"/></a>"
      ]
    },
    {
      "cell_type": "markdown",
      "source": [
        "### 3단계 반복문(12문제)"
      ],
      "metadata": {
        "id": "03FxghPSZwH5"
      }
    },
    {
      "cell_type": "markdown",
      "source": [
        "2739) 구구단"
      ],
      "metadata": {
        "id": "lO2lpjzgZ2Ab"
      }
    },
    {
      "cell_type": "code",
      "execution_count": 2,
      "metadata": {
        "colab": {
          "base_uri": "https://localhost:8080/"
        },
        "id": "zM1oPcYyZtTz",
        "outputId": "a69cdc05-2caa-412f-f9af-3098f1fc8474"
      },
      "outputs": [
        {
          "output_type": "stream",
          "name": "stdout",
          "text": [
            "2\n",
            "2 * 1 = 2\n",
            "2 * 2 = 4\n",
            "2 * 3 = 6\n",
            "2 * 4 = 8\n",
            "2 * 5 = 10\n",
            "2 * 6 = 12\n",
            "2 * 7 = 14\n",
            "2 * 8 = 16\n",
            "2 * 9 = 18\n"
          ]
        }
      ],
      "source": [
        "N = int(input())\n",
        "for i in range(1,10):\n",
        "    print(N, '*', i, '=', N*i)"
      ]
    },
    {
      "cell_type": "markdown",
      "source": [
        "10950) A+B - 3"
      ],
      "metadata": {
        "id": "zkVYs-6bZ6q_"
      }
    },
    {
      "cell_type": "code",
      "source": [
        "N = int(input())\n",
        "for i in range(N):\n",
        "    A, B = map(int, input().split())\n",
        "    print(A+B)"
      ],
      "metadata": {
        "colab": {
          "base_uri": "https://localhost:8080/"
        },
        "id": "9rETSvStZ7MT",
        "outputId": "f71f4e4e-12a5-4cf0-e0f7-53262cffee33"
      },
      "execution_count": 3,
      "outputs": [
        {
          "output_type": "stream",
          "name": "stdout",
          "text": [
            "5\n",
            "1 1\n",
            "2\n",
            "2 3\n",
            "5\n",
            "3 4\n",
            "7\n",
            "9 8\n",
            "17\n",
            "5 2\n",
            "7\n"
          ]
        }
      ]
    },
    {
      "cell_type": "markdown",
      "source": [
        "8393) 합"
      ],
      "metadata": {
        "id": "O3sSrFsCZ84q"
      }
    },
    {
      "cell_type": "code",
      "source": [
        "n = int(input())\n",
        "sum = 0\n",
        "for i in range(1,n+1):\n",
        "    sum += i\n",
        "print(sum)"
      ],
      "metadata": {
        "colab": {
          "base_uri": "https://localhost:8080/"
        },
        "id": "O5trWx6LZ9zj",
        "outputId": "c3393ccb-325b-4c35-cd1e-2d622c4f460a"
      },
      "execution_count": 6,
      "outputs": [
        {
          "output_type": "stream",
          "name": "stdout",
          "text": [
            "3\n",
            "6\n"
          ]
        }
      ]
    },
    {
      "cell_type": "markdown",
      "source": [
        "25304) 영수증"
      ],
      "metadata": {
        "id": "Ei8f9lWsZ-Hv"
      }
    },
    {
      "cell_type": "code",
      "source": [
        "X = int(input())\n",
        "N = int(input())\n",
        "sum = 0\n",
        "for i in range(N):\n",
        "    a, b = map(int, input().split())\n",
        "    sum += a*b\n",
        "if sum == X:\n",
        "    print('Yes')\n",
        "else:\n",
        "    print('No')"
      ],
      "metadata": {
        "colab": {
          "base_uri": "https://localhost:8080/"
        },
        "id": "sSjRpMPeaAe8",
        "outputId": "b1a4b628-01ed-4756-be2f-c06ba8c816ee"
      },
      "execution_count": 7,
      "outputs": [
        {
          "output_type": "stream",
          "name": "stdout",
          "text": [
            "260000\n",
            "4\n",
            "20000 5\n",
            "30000 2\n",
            "10000 6\n",
            "5000 8\n",
            "Yes\n"
          ]
        }
      ]
    },
    {
      "cell_type": "markdown",
      "source": [
        "15552) 빠른 A+B"
      ],
      "metadata": {
        "id": "Wdl6udXaaAv2"
      }
    },
    {
      "cell_type": "code",
      "source": [
        "import sys\n",
        "t = int(input())\n",
        "for i in range(t):\n",
        "    a, b = map(int, sys.stdin.readline().rstrip().split())\n",
        "    print(a+b)\n",
        "\n",
        "# sys.stdin.readline() 코랩에서 실행 안됨"
      ],
      "metadata": {
        "id": "FTk07_0SkPnd"
      },
      "execution_count": null,
      "outputs": []
    },
    {
      "cell_type": "markdown",
      "source": [
        "11021) A+B - 7"
      ],
      "metadata": {
        "id": "-dHuZx2naDW2"
      }
    },
    {
      "cell_type": "code",
      "source": [
        "T = int(input())\n",
        "for i in range(1,T+1):\n",
        "    A, B = map(int, input().split())\n",
        "    print(f'Case #{i}: {A+B}')"
      ],
      "metadata": {
        "colab": {
          "base_uri": "https://localhost:8080/"
        },
        "id": "fo8ITj5DaFQv",
        "outputId": "8865dcc5-887c-41b0-8e0c-4dba749b8f87"
      },
      "execution_count": 14,
      "outputs": [
        {
          "output_type": "stream",
          "name": "stdout",
          "text": [
            "5\n",
            "1 1\n",
            "Case #1: 2\n",
            "2 3\n",
            "Case #2: 5\n",
            "3 4\n",
            "Case #3: 7\n",
            "9 8\n",
            "Case #4: 17\n",
            "5 2\n",
            "Case #5: 7\n"
          ]
        }
      ]
    },
    {
      "cell_type": "markdown",
      "source": [
        "11022) A+B - 8"
      ],
      "metadata": {
        "id": "svj1Pdf1aFxm"
      }
    },
    {
      "cell_type": "code",
      "source": [
        "T = int(input())\n",
        "for i in range(1,T+1):\n",
        "    A, B = map(int, input().split())\n",
        "    print(f'Case #{i}: {A} + {B} = {A+B}')"
      ],
      "metadata": {
        "colab": {
          "base_uri": "https://localhost:8080/"
        },
        "id": "aIOGc6draIjt",
        "outputId": "20e4f1d4-2ce0-4e95-9fcc-6e93e90c4ceb"
      },
      "execution_count": 17,
      "outputs": [
        {
          "output_type": "stream",
          "name": "stdout",
          "text": [
            "5\n",
            "1 1\n",
            "Case #1: 1 + 1 = 2\n",
            "2 3\n",
            "Case #2: 2 + 3 = 5\n",
            "3 4\n",
            "Case #3: 3 + 4 = 7\n",
            "9 8\n",
            "Case #4: 9 + 8 = 17\n",
            "5 2\n",
            "Case #5: 5 + 2 = 7\n"
          ]
        }
      ]
    },
    {
      "cell_type": "markdown",
      "source": [
        "2438) 별 찍기 - 1"
      ],
      "metadata": {
        "id": "uEfF9aiiaJPT"
      }
    },
    {
      "cell_type": "code",
      "source": [
        "N = int(input())\n",
        "for i in range(1,N+1):\n",
        "    print('*'*i)"
      ],
      "metadata": {
        "colab": {
          "base_uri": "https://localhost:8080/"
        },
        "id": "kdMC7tp6aL7u",
        "outputId": "315273b2-8f54-4429-cec7-faf57c27f261"
      },
      "execution_count": 18,
      "outputs": [
        {
          "output_type": "stream",
          "name": "stdout",
          "text": [
            "5\n",
            "*\n",
            "**\n",
            "***\n",
            "****\n",
            "*****\n"
          ]
        }
      ]
    },
    {
      "cell_type": "markdown",
      "source": [
        "2439) 별 찍기 - 2"
      ],
      "metadata": {
        "id": "Q09NP0bHaYf0"
      }
    },
    {
      "cell_type": "code",
      "source": [
        "N = int(input())\n",
        "for i in range(1,N+1):\n",
        "    print(' '*(N-i)+'*'*i)"
      ],
      "metadata": {
        "colab": {
          "base_uri": "https://localhost:8080/"
        },
        "id": "_M56stWvaZBH",
        "outputId": "80328318-122c-4ce1-d96e-8206f6c3ea9a"
      },
      "execution_count": 20,
      "outputs": [
        {
          "output_type": "stream",
          "name": "stdout",
          "text": [
            "5\n",
            "    *\n",
            "   **\n",
            "  ***\n",
            " ****\n",
            "*****\n"
          ]
        }
      ]
    },
    {
      "cell_type": "markdown",
      "source": [
        "10952) A+B - 5"
      ],
      "metadata": {
        "id": "HBq_9yogait6"
      }
    },
    {
      "cell_type": "code",
      "source": [
        "while True:\n",
        "    a, b = map(int, input().split())\n",
        "    if (a == 0) & (b == 0):\n",
        "        break\n",
        "    else:\n",
        "        print(a+b)"
      ],
      "metadata": {
        "colab": {
          "base_uri": "https://localhost:8080/"
        },
        "id": "hKkbl7klajPr",
        "outputId": "0c20ef58-732c-48a4-84e5-05f4beaf9c4c"
      },
      "execution_count": 21,
      "outputs": [
        {
          "name": "stdout",
          "output_type": "stream",
          "text": [
            "1 1\n",
            "2\n",
            "2 3\n",
            "5\n",
            "3 4\n",
            "7\n",
            "9 8\n",
            "17\n",
            "5 2\n",
            "7\n",
            "0 0\n"
          ]
        }
      ]
    },
    {
      "cell_type": "markdown",
      "source": [
        "10951) A+B - 4"
      ],
      "metadata": {
        "id": "W_olkqYqajnU"
      }
    },
    {
      "cell_type": "code",
      "source": [
        "while True:\n",
        "    try:\n",
        "        A, B = map(int, input().split())\n",
        "        print(A+B)\n",
        "    except:\n",
        "        break"
      ],
      "metadata": {
        "colab": {
          "base_uri": "https://localhost:8080/"
        },
        "id": "46jaLgmEa8vL",
        "outputId": "069c3150-8f61-438b-a581-38ce2f04b00b"
      },
      "execution_count": 22,
      "outputs": [
        {
          "name": "stdout",
          "output_type": "stream",
          "text": [
            "1 1\n",
            "2\n",
            "2 3\n",
            "5\n",
            "3 4\n",
            "7\n",
            "9 8\n",
            "17\n",
            "5 2\n",
            "7\n",
            "\n"
          ]
        }
      ]
    },
    {
      "cell_type": "markdown",
      "source": [
        "1110) 더하기 사이클"
      ],
      "metadata": {
        "id": "TyZYz8Qza9G7"
      }
    },
    {
      "cell_type": "code",
      "source": [
        "N = int(input())\n",
        "init = N\n",
        "cycle = 0\n",
        "while True:\n",
        "    cycle += 1\n",
        "    N = N%10*10 + (N//10 + N%10)%10\n",
        "    if N == init:\n",
        "        break\n",
        "print(cycle)"
      ],
      "metadata": {
        "colab": {
          "base_uri": "https://localhost:8080/"
        },
        "id": "_JZMwdKta_X2",
        "outputId": "b9506ccc-afc5-4331-f441-877bc2830e81"
      },
      "execution_count": 25,
      "outputs": [
        {
          "output_type": "stream",
          "name": "stdout",
          "text": [
            "55\n",
            "3\n"
          ]
        }
      ]
    }
  ]
}