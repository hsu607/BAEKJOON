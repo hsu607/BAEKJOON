{
  "cells": [
    {
      "cell_type": "markdown",
      "metadata": {
        "id": "view-in-github",
        "colab_type": "text"
      },
      "source": [
        "<a href=\"https://colab.research.google.com/github/hsu607/BAEKJOON/blob/main/STEP06_%EB%AC%B8%EC%9E%90%EC%97%B4.ipynb\" target=\"_parent\"><img src=\"https://colab.research.google.com/assets/colab-badge.svg\" alt=\"Open In Colab\"/></a>"
      ]
    },
    {
      "cell_type": "markdown",
      "metadata": {
        "id": "N9zoc_MuiJYy"
      },
      "source": [
        "## 6단계 문자열(10문제)"
      ]
    },
    {
      "cell_type": "markdown",
      "metadata": {
        "id": "uj6cX3Z8iO1D"
      },
      "source": [
        "### 11654. 아스키 코드"
      ]
    },
    {
      "cell_type": "code",
      "execution_count": null,
      "metadata": {
        "colab": {
          "base_uri": "https://localhost:8080/"
        },
        "id": "VBXg3tW7iBpR",
        "outputId": "dfaf79fc-12d6-4edd-8755-a3d9b4fc78d6"
      },
      "outputs": [
        {
          "name": "stdout",
          "output_type": "stream",
          "text": [
            "A\n",
            "65\n"
          ]
        }
      ],
      "source": [
        "a = input()\n",
        "print(ord(a))\n",
        "# ord() -> 문자를 아스키 코드로 변환\n",
        "# chr() -> 아스키 코드를 문자로 변환"
      ]
    },
    {
      "cell_type": "markdown",
      "metadata": {
        "id": "L7FmutnliSZx"
      },
      "source": [
        "### 11720. 숫자의 합"
      ]
    },
    {
      "cell_type": "code",
      "execution_count": null,
      "metadata": {
        "colab": {
          "base_uri": "https://localhost:8080/"
        },
        "id": "4-loMHDXnBCu",
        "outputId": "05c570f8-6357-4ef7-e435-7c4e0d6adac1"
      },
      "outputs": [
        {
          "name": "stdout",
          "output_type": "stream",
          "text": [
            "5\n",
            "54321\n",
            "15\n"
          ]
        }
      ],
      "source": [
        "# for문 이용\n",
        "n = int(input())\n",
        "num =list(map(int, input()))\n",
        "total = 0\n",
        "for i in range(len(num)):\n",
        "    total += num[i]\n",
        "print(total)"
      ]
    },
    {
      "cell_type": "code",
      "execution_count": null,
      "metadata": {
        "colab": {
          "base_uri": "https://localhost:8080/"
        },
        "id": "6HThInM4iVVk",
        "outputId": "6ff5ee63-feba-4b91-aba9-46b271b8d6f8"
      },
      "outputs": [
        {
          "name": "stdout",
          "output_type": "stream",
          "text": [
            "5\n",
            "54321\n",
            "15\n"
          ]
        }
      ],
      "source": [
        "# sum() 함수 이용\n",
        "n = int(input())\n",
        "num = map(int, input())\n",
        "print(sum(num))"
      ]
    },
    {
      "cell_type": "markdown",
      "metadata": {
        "id": "1Ydqv9uViVxf"
      },
      "source": [
        "### 10809. 알파벳 찾기"
      ]
    },
    {
      "cell_type": "code",
      "source": [
        "s = input()\n",
        "for i in range(ord('a'), ord('z')+1):   # 알파벳리스트를 아스키코드를 이용하여 생성\n",
        "    print(s.find(chr(i)), end = \" \")    # 아스키코드로 저장된 i를 chr()을 이용하여 다시 문자열로 바꿔줘야 함\n",
        "    # find 함수는 문자열을 입력받아, 찾는 문자가 첫번째로 등장하는 인덱스를 출력, 없으면 -1 출력"
      ],
      "metadata": {
        "colab": {
          "base_uri": "https://localhost:8080/"
        },
        "id": "WCgbbgMgVI49",
        "outputId": "06fcd211-7587-49b0-ef4f-46a03d9afce8"
      },
      "execution_count": 19,
      "outputs": [
        {
          "output_type": "stream",
          "name": "stdout",
          "text": [
            "baekjoon\n",
            "1 0 -1 -1 2 -1 -1 -1 -1 4 3 -1 -1 7 5 -1 -1 -1 -1 -1 -1 -1 -1 -1 -1 -1 "
          ]
        }
      ]
    },
    {
      "cell_type": "markdown",
      "metadata": {
        "id": "a1eMc9l1iZjf"
      },
      "source": [
        "### 2675. 문자열 반복"
      ]
    },
    {
      "cell_type": "code",
      "execution_count": null,
      "metadata": {
        "colab": {
          "base_uri": "https://localhost:8080/"
        },
        "id": "0nxcuSvzicXJ",
        "outputId": "7b45cfdb-4585-4156-e8c9-ec737f498d38"
      },
      "outputs": [
        {
          "output_type": "stream",
          "name": "stdout",
          "text": [
            "2\n",
            "3 ABC\n",
            "AAABBBCCC\n",
            "5 /HTP\n",
            "/////HHHHHTTTTTPPPPP\n"
          ]
        }
      ],
      "source": [
        "t = int(input())\n",
        "for i in range(t):\n",
        "    r, s = input().split()\n",
        "    r = int(r)\n",
        "    rep = ''\n",
        "    for i in s:\n",
        "        rep += i*r\n",
        "    print(rep)"
      ]
    },
    {
      "cell_type": "markdown",
      "metadata": {
        "id": "NyiybMY4ic_F"
      },
      "source": [
        "### 1157. 단어 공부"
      ]
    },
    {
      "cell_type": "code",
      "execution_count": 6,
      "metadata": {
        "id": "IuQTMTbeifd0",
        "colab": {
          "base_uri": "https://localhost:8080/"
        },
        "outputId": "f02a35a2-d8d2-46c0-8049-3634b62acbe0"
      },
      "outputs": [
        {
          "output_type": "stream",
          "name": "stdout",
          "text": [
            "zZa\n",
            "Z\n"
          ]
        }
      ],
      "source": [
        "s = input().upper()\n",
        "s_list = list(set(s))\n",
        "cnt = []\n",
        "for i in s_list:\n",
        "    cnt.append(s.count(i))\n",
        "\n",
        "if cnt.count(max(cnt)) > 1:\n",
        "    print('?')\n",
        "else:\n",
        "    print(s_list[cnt.index(max(cnt))])"
      ]
    },
    {
      "cell_type": "markdown",
      "metadata": {
        "id": "h5gkX88Qigdc"
      },
      "source": [
        "### 1152. 단어의 개수"
      ]
    },
    {
      "cell_type": "code",
      "execution_count": 21,
      "metadata": {
        "id": "klJpfNkuikTS",
        "colab": {
          "base_uri": "https://localhost:8080/"
        },
        "outputId": "461a1d20-b511-47a4-d294-2543d390d734"
      },
      "outputs": [
        {
          "output_type": "stream",
          "name": "stdout",
          "text": [
            "The Curious Case of Benjamin Button\n",
            "6\n"
          ]
        }
      ],
      "source": [
        "s = list(input().split())\n",
        "print(len(s))"
      ]
    },
    {
      "cell_type": "markdown",
      "metadata": {
        "id": "N_eXEwLCikmB"
      },
      "source": [
        "### 2908. 상수"
      ]
    },
    {
      "cell_type": "code",
      "execution_count": 2,
      "metadata": {
        "id": "T40vQeKHim0B",
        "colab": {
          "base_uri": "https://localhost:8080/"
        },
        "outputId": "932499fd-9fa1-4bdf-b24b-24d40ed21aa2"
      },
      "outputs": [
        {
          "output_type": "stream",
          "name": "stdout",
          "text": [
            "734 893\n",
            "437\n"
          ]
        }
      ],
      "source": [
        "a, b = input().split()\n",
        "print(max(a[::-1], b[::-1]))   # string[start:stop:step] \n",
        "                               # [::-1] -> 문자열 역순으로"
      ]
    },
    {
      "cell_type": "markdown",
      "metadata": {
        "id": "iWndQfisio61"
      },
      "source": [
        "### 5622. 다이얼"
      ]
    },
    {
      "cell_type": "code",
      "execution_count": 3,
      "metadata": {
        "id": "osgDc2Z6iqde",
        "colab": {
          "base_uri": "https://localhost:8080/"
        },
        "outputId": "17286668-a693-4b2a-9111-90e69de54bfe"
      },
      "outputs": [
        {
          "output_type": "stream",
          "name": "stdout",
          "text": [
            "WA\n",
            "13\n"
          ]
        }
      ],
      "source": [
        "s = input()\n",
        "time = 0\n",
        "for i in s:\n",
        "    if i in ['A', 'B', 'C']:\n",
        "        time += 3\n",
        "    elif i in ['D', 'E', 'F']:\n",
        "        time += 4\n",
        "    elif i in ['G', 'H', 'I']:\n",
        "        time += 5\n",
        "    elif i in ['J', 'K', 'L']:\n",
        "        time += 6\n",
        "    elif i in ['M', 'N', 'O']:\n",
        "        time += 7\n",
        "    elif i in ['P', 'Q', 'R', 'S']:\n",
        "        time += 8\n",
        "    elif i in ['T', 'U', 'V']:\n",
        "        time += 9\n",
        "    elif i in ['W', 'X', 'Y', 'Z']:\n",
        "        time += 10\n",
        "print(time)"
      ]
    },
    {
      "cell_type": "code",
      "source": [
        "# 다른 방법\n",
        "s = input()\n",
        "dial = ['ABC','DEF','GHI','JKL','MNO','PQRS','TUV','WXYZ']\n",
        "time = 0\n",
        "for i in s:\n",
        "    for j in dial:\n",
        "        if i in j:\n",
        "            time += dial.index(j) + 3\n",
        "print(time)"
      ],
      "metadata": {
        "colab": {
          "base_uri": "https://localhost:8080/"
        },
        "id": "IggpJ89tcsDP",
        "outputId": "2bb741f0-236d-4027-efdc-5ae4f32af0de"
      },
      "execution_count": 2,
      "outputs": [
        {
          "output_type": "stream",
          "name": "stdout",
          "text": [
            "UNUCIC\n",
            "36\n"
          ]
        }
      ]
    },
    {
      "cell_type": "markdown",
      "metadata": {
        "id": "Z6VsOOw7irO8"
      },
      "source": [
        "### 2941. 크로아티아 알파벳"
      ]
    },
    {
      "cell_type": "code",
      "execution_count": null,
      "metadata": {
        "id": "epy5HLT5kBqL"
      },
      "outputs": [],
      "source": []
    },
    {
      "cell_type": "markdown",
      "metadata": {
        "id": "3GJE28ipkCZB"
      },
      "source": [
        "### 1316. 그룹 단어 체커"
      ]
    },
    {
      "cell_type": "code",
      "execution_count": null,
      "metadata": {
        "id": "8Khjf7bjkFG-"
      },
      "outputs": [],
      "source": []
    }
  ],
  "metadata": {
    "colab": {
      "provenance": [],
      "authorship_tag": "ABX9TyO05iWkmNZh9iOelSTH7afe",
      "include_colab_link": true
    },
    "kernelspec": {
      "display_name": "Python 3",
      "name": "python3"
    },
    "language_info": {
      "name": "python"
    }
  },
  "nbformat": 4,
  "nbformat_minor": 0
}