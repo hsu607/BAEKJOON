{
  "cells": [
    {
      "cell_type": "markdown",
      "metadata": {
        "id": "view-in-github",
        "colab_type": "text"
      },
      "source": [
        "<a href=\"https://colab.research.google.com/github/hsu607/BAEKJOON/blob/main/STEP06_%EB%AC%B8%EC%9E%90%EC%97%B4.ipynb\" target=\"_parent\"><img src=\"https://colab.research.google.com/assets/colab-badge.svg\" alt=\"Open In Colab\"/></a>"
      ]
    },
    {
      "cell_type": "markdown",
      "metadata": {
        "id": "N9zoc_MuiJYy"
      },
      "source": [
        "## 6단계 문자열(10문제)"
      ]
    },
    {
      "cell_type": "markdown",
      "metadata": {
        "id": "uj6cX3Z8iO1D"
      },
      "source": [
        "### 11654. 아스키 코드"
      ]
    },
    {
      "cell_type": "code",
      "execution_count": null,
      "metadata": {
        "colab": {
          "base_uri": "https://localhost:8080/"
        },
        "id": "VBXg3tW7iBpR",
        "outputId": "dfaf79fc-12d6-4edd-8755-a3d9b4fc78d6"
      },
      "outputs": [
        {
          "name": "stdout",
          "output_type": "stream",
          "text": [
            "A\n",
            "65\n"
          ]
        }
      ],
      "source": [
        "a = input()\n",
        "print(ord(a))\n",
        "# ord() -> 문자를 아스키 코드로 변환\n",
        "# chr() -> 아스키 코드를 문자로 변환"
      ]
    },
    {
      "cell_type": "markdown",
      "metadata": {
        "id": "L7FmutnliSZx"
      },
      "source": [
        "### 11720. 숫자의 합"
      ]
    },
    {
      "cell_type": "code",
      "execution_count": null,
      "metadata": {
        "colab": {
          "base_uri": "https://localhost:8080/"
        },
        "id": "4-loMHDXnBCu",
        "outputId": "05c570f8-6357-4ef7-e435-7c4e0d6adac1"
      },
      "outputs": [
        {
          "name": "stdout",
          "output_type": "stream",
          "text": [
            "5\n",
            "54321\n",
            "15\n"
          ]
        }
      ],
      "source": [
        "# for문 이용\n",
        "n = int(input())\n",
        "num =list(map(int, input()))\n",
        "total = 0\n",
        "for i in range(len(num)):\n",
        "    total += num[i]\n",
        "print(total)"
      ]
    },
    {
      "cell_type": "code",
      "execution_count": null,
      "metadata": {
        "colab": {
          "base_uri": "https://localhost:8080/"
        },
        "id": "6HThInM4iVVk",
        "outputId": "6ff5ee63-feba-4b91-aba9-46b271b8d6f8"
      },
      "outputs": [
        {
          "name": "stdout",
          "output_type": "stream",
          "text": [
            "5\n",
            "54321\n",
            "15\n"
          ]
        }
      ],
      "source": [
        "# sum() 함수 이용\n",
        "n = int(input())\n",
        "num = map(int, input())\n",
        "print(sum(num))"
      ]
    },
    {
      "cell_type": "markdown",
      "metadata": {
        "id": "1Ydqv9uViVxf"
      },
      "source": [
        "### 10809. 알파벳 찾기"
      ]
    },
    {
      "cell_type": "code",
      "execution_count": null,
      "metadata": {
        "id": "CYVHOvqOiZF6"
      },
      "outputs": [],
      "source": [
        "s = input()\n"
      ]
    },
    {
      "cell_type": "markdown",
      "metadata": {
        "id": "a1eMc9l1iZjf"
      },
      "source": [
        "### 2675. 문자열 반복"
      ]
    },
    {
      "cell_type": "code",
      "execution_count": null,
      "metadata": {
        "colab": {
          "base_uri": "https://localhost:8080/"
        },
        "id": "0nxcuSvzicXJ",
        "outputId": "7b45cfdb-4585-4156-e8c9-ec737f498d38"
      },
      "outputs": [
        {
          "output_type": "stream",
          "name": "stdout",
          "text": [
            "2\n",
            "3 ABC\n",
            "AAABBBCCC\n",
            "5 /HTP\n",
            "/////HHHHHTTTTTPPPPP\n"
          ]
        }
      ],
      "source": [
        "t = int(input())\n",
        "for i in range(t):\n",
        "    r, s = input().split()\n",
        "    r = int(r)\n",
        "    rep = ''\n",
        "    for i in s:\n",
        "        rep += i*r\n",
        "    print(rep)"
      ]
    },
    {
      "cell_type": "markdown",
      "metadata": {
        "id": "NyiybMY4ic_F"
      },
      "source": [
        "### 1157. 단어 공부"
      ]
    },
    {
      "cell_type": "code",
      "execution_count": null,
      "metadata": {
        "id": "IuQTMTbeifd0",
        "colab": {
          "base_uri": "https://localhost:8080/",
          "height": 35
        },
        "outputId": "d8b256c9-e959-47e4-aa61-27e1ce242196"
      },
      "outputs": [
        {
          "output_type": "execute_result",
          "data": {
            "text/plain": [
              "'s'"
            ],
            "application/vnd.google.colaboratory.intrinsic+json": {
              "type": "string"
            }
          },
          "metadata": {},
          "execution_count": 14
        }
      ],
      "source": []
    },
    {
      "cell_type": "markdown",
      "metadata": {
        "id": "h5gkX88Qigdc"
      },
      "source": [
        "### 1152. 단어의 개수"
      ]
    },
    {
      "cell_type": "code",
      "execution_count": null,
      "metadata": {
        "id": "klJpfNkuikTS"
      },
      "outputs": [],
      "source": []
    },
    {
      "cell_type": "markdown",
      "metadata": {
        "id": "N_eXEwLCikmB"
      },
      "source": [
        "### 2908. 상수"
      ]
    },
    {
      "cell_type": "code",
      "execution_count": null,
      "metadata": {
        "id": "T40vQeKHim0B"
      },
      "outputs": [],
      "source": []
    },
    {
      "cell_type": "markdown",
      "metadata": {
        "id": "iWndQfisio61"
      },
      "source": [
        "### 5622. 다이얼"
      ]
    },
    {
      "cell_type": "code",
      "execution_count": null,
      "metadata": {
        "id": "osgDc2Z6iqde"
      },
      "outputs": [],
      "source": []
    },
    {
      "cell_type": "markdown",
      "metadata": {
        "id": "Z6VsOOw7irO8"
      },
      "source": [
        "### 2941. 크로아티아 알파벳"
      ]
    },
    {
      "cell_type": "code",
      "execution_count": null,
      "metadata": {
        "id": "epy5HLT5kBqL"
      },
      "outputs": [],
      "source": []
    },
    {
      "cell_type": "markdown",
      "metadata": {
        "id": "3GJE28ipkCZB"
      },
      "source": [
        "### 1316. 그룹 단어 체커"
      ]
    },
    {
      "cell_type": "code",
      "execution_count": null,
      "metadata": {
        "id": "8Khjf7bjkFG-"
      },
      "outputs": [],
      "source": []
    }
  ],
  "metadata": {
    "colab": {
      "provenance": [],
      "authorship_tag": "ABX9TyNy7gJMRUnNWhjhFWimo0gz",
      "include_colab_link": true
    },
    "kernelspec": {
      "display_name": "Python 3",
      "name": "python3"
    },
    "language_info": {
      "name": "python"
    }
  },
  "nbformat": 4,
  "nbformat_minor": 0
}