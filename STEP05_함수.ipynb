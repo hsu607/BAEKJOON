{
  "nbformat": 4,
  "nbformat_minor": 0,
  "metadata": {
    "colab": {
      "provenance": [],
      "authorship_tag": "ABX9TyOGa/HxeQsHzz3xHvZTazSK",
      "include_colab_link": true
    },
    "kernelspec": {
      "name": "python3",
      "display_name": "Python 3"
    },
    "language_info": {
      "name": "python"
    }
  },
  "cells": [
    {
      "cell_type": "markdown",
      "metadata": {
        "id": "view-in-github",
        "colab_type": "text"
      },
      "source": [
        "<a href=\"https://colab.research.google.com/github/hsu607/BAEKJOON/blob/main/STEP05_%ED%95%A8%EC%88%98.ipynb\" target=\"_parent\"><img src=\"https://colab.research.google.com/assets/colab-badge.svg\" alt=\"Open In Colab\"/></a>"
      ]
    },
    {
      "cell_type": "markdown",
      "source": [
        "## 5단계 함수(3문제)"
      ],
      "metadata": {
        "id": "oe_Ra07nV966"
      }
    },
    {
      "cell_type": "markdown",
      "source": [
        "### 15596. 정수 N개의 합"
      ],
      "metadata": {
        "id": "Vf-DJBFXWEjE"
      }
    },
    {
      "cell_type": "code",
      "execution_count": null,
      "metadata": {
        "id": "29BQqtUhVvdI"
      },
      "outputs": [],
      "source": [
        "def solve(a):\n",
        "    return sum(a)"
      ]
    },
    {
      "cell_type": "markdown",
      "source": [
        "### 4673. 셀프 넘버"
      ],
      "metadata": {
        "id": "tafbXXWwWLRk"
      }
    },
    {
      "cell_type": "code",
      "source": [
        "def d(n):\n",
        "    n += sum(map(int, str(n)))\n",
        "    return n\n",
        "nonSelfnum = set()\n",
        "for i in range(1,10001):\n",
        "    nonSelfnum.add(d(i))\n",
        "\n",
        "for i in range(1,10001):\n",
        "    if i not in nonSelfnum:\n",
        "        print(i)"
      ],
      "metadata": {
        "id": "Nnu0pgp7WO3z"
      },
      "execution_count": null,
      "outputs": []
    },
    {
      "cell_type": "markdown",
      "source": [
        "### 1065. 한수"
      ],
      "metadata": {
        "id": "J31mMrWgWWKV"
      }
    },
    {
      "cell_type": "code",
      "source": [
        "n = int(input())\n",
        "hansu = 0\n",
        "for i in range(1, n+1):\n",
        "    if i < 100:\n",
        "        hansu += 1\n",
        "    else:\n",
        "        if int(str(i)[0]) - int(str(i)[1]) == int(str(i)[1]) - int(str(i)[2]):\n",
        "            hansu += 1\n",
        "print(hansu)"
      ],
      "metadata": {
        "colab": {
          "base_uri": "https://localhost:8080/"
        },
        "id": "qWG1k19bcWQ4",
        "outputId": "5b8e5133-35b0-405e-cdcf-e008adb85e84"
      },
      "execution_count": 3,
      "outputs": [
        {
          "output_type": "stream",
          "name": "stdout",
          "text": [
            "110\n",
            "99\n"
          ]
        }
      ]
    }
  ]
}