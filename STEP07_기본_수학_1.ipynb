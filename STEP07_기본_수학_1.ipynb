{
  "nbformat": 4,
  "nbformat_minor": 0,
  "metadata": {
    "colab": {
      "provenance": [],
      "authorship_tag": "ABX9TyOwgvMe2D/8761rgzC+1Ao5",
      "include_colab_link": true
    },
    "kernelspec": {
      "name": "python3",
      "display_name": "Python 3"
    },
    "language_info": {
      "name": "python"
    }
  },
  "cells": [
    {
      "cell_type": "markdown",
      "metadata": {
        "id": "view-in-github",
        "colab_type": "text"
      },
      "source": [
        "<a href=\"https://colab.research.google.com/github/hsu607/BAEKJOON/blob/main/STEP07_%EA%B8%B0%EB%B3%B8_%EC%88%98%ED%95%99_1.ipynb\" target=\"_parent\"><img src=\"https://colab.research.google.com/assets/colab-badge.svg\" alt=\"Open In Colab\"/></a>"
      ]
    },
    {
      "cell_type": "markdown",
      "source": [
        "## 7단계 기본 수학 1"
      ],
      "metadata": {
        "id": "C-O4YPoYI1rv"
      }
    },
    {
      "cell_type": "markdown",
      "source": [
        "### 1712. 손익분기점"
      ],
      "metadata": {
        "id": "Rnv5arxBI8AW"
      }
    },
    {
      "cell_type": "code",
      "execution_count": null,
      "metadata": {
        "colab": {
          "base_uri": "https://localhost:8080/"
        },
        "id": "UshSZrG7Is4P",
        "outputId": "e7d8f1cc-690c-419e-8de4-53888d11b2f3"
      },
      "outputs": [
        {
          "output_type": "stream",
          "name": "stdout",
          "text": [
            "1000 70 170\n",
            "11\n"
          ]
        }
      ],
      "source": [
        "# 반복문 사용하면 시간 초과됨\n",
        "a, b, c = map(int, input().split())\n",
        "if b >= c:\n",
        "    print(-1)\n",
        "else:\n",
        "    print(a//(c-b)+1) "
      ]
    },
    {
      "cell_type": "markdown",
      "source": [
        "### 2292. 벌집"
      ],
      "metadata": {
        "id": "slclAzIDJDuw"
      }
    },
    {
      "cell_type": "code",
      "source": [
        "bee = int(input())\n",
        "n, cnt = 1, 1\n",
        "while n < bee:\n",
        "    n += cnt*6\n",
        "    cnt += 1\n",
        "print(cnt)"
      ],
      "metadata": {
        "colab": {
          "base_uri": "https://localhost:8080/"
        },
        "id": "JZ2IuDRWJG0f",
        "outputId": "b93d52c8-86f9-499c-8895-a553154d3077"
      },
      "execution_count": 2,
      "outputs": [
        {
          "output_type": "stream",
          "name": "stdout",
          "text": [
            "13\n",
            "3\n"
          ]
        }
      ]
    },
    {
      "cell_type": "markdown",
      "source": [
        "### 1193. 분수찾기"
      ],
      "metadata": {
        "id": "9PNQ3CmDJHIN"
      }
    },
    {
      "cell_type": "code",
      "source": [
        "number = int(input())\n",
        "n, cnt = 1, 1\n",
        "while n < number:\n",
        "    cnt += 1\n",
        "    n += cnt\n",
        "\n",
        "rank = n - number\n",
        "if cnt % 2 == 0:\n",
        "    top = cnt - rank\n",
        "    bottom = rank + 1\n",
        "\n",
        "else:\n",
        "    top = rank + 1\n",
        "    bottom = cnt - rank\n",
        "print(f'{top}/{bottom}')"
      ],
      "metadata": {
        "id": "ZTImCrbpJKd3",
        "colab": {
          "base_uri": "https://localhost:8080/"
        },
        "outputId": "a1773f4d-8ad1-488c-e31a-78e8f85297e2"
      },
      "execution_count": 8,
      "outputs": [
        {
          "output_type": "stream",
          "name": "stdout",
          "text": [
            "6\n",
            "1/3\n"
          ]
        }
      ]
    },
    {
      "cell_type": "markdown",
      "source": [
        "### 2869. 달팽이는 올라가고 싶다"
      ],
      "metadata": {
        "id": "GEBkEIj4JLDb"
      }
    },
    {
      "cell_type": "code",
      "source": [
        "# 시간초과된 코드\n",
        "a, b, v = map(int, input().split())\n",
        "cnt = 0\n",
        "h = a-b\n",
        "while h < v:\n",
        "    cnt += 1\n",
        "    h += a-b\n",
        "print(cnt)"
      ],
      "metadata": {
        "id": "yhf6cTffJOdF",
        "colab": {
          "base_uri": "https://localhost:8080/"
        },
        "outputId": "b62c6cdc-4528-4480-8353-3d16000ed590"
      },
      "execution_count": 10,
      "outputs": [
        {
          "output_type": "stream",
          "name": "stdout",
          "text": [
            "2 1 5\n",
            "4\n"
          ]
        }
      ]
    },
    {
      "cell_type": "code",
      "source": [
        "# math.ceil : 올림\n",
        "# math.floor : 내림\n",
        "# math,round : 반올림 \n",
        "\n",
        "# 최종코드\n",
        "import math\n",
        "a, b, v = map(int, input().split())\n",
        "print(math.ceil((v-a)/(a-b))+1)"
      ],
      "metadata": {
        "colab": {
          "base_uri": "https://localhost:8080/"
        },
        "id": "5DMMcYSDma9R",
        "outputId": "0f189b45-1a3a-43f8-eb52-c5d1f008c1f7"
      },
      "execution_count": 8,
      "outputs": [
        {
          "output_type": "stream",
          "name": "stdout",
          "text": [
            "2 1 5\n",
            "4\n"
          ]
        }
      ]
    },
    {
      "cell_type": "markdown",
      "source": [
        "### 10250. ACM 호텔"
      ],
      "metadata": {
        "id": "24wvdKOnJOzP"
      }
    },
    {
      "cell_type": "code",
      "source": [
        "import math\n",
        "t = int(input())\n",
        "for i in range(t):\n",
        "    h, w, n = map(int, input().split())\n",
        "    a = h if n%h == 0 else n%h\n",
        "    b = math.ceil(n/h)\n",
        "    print(100*a+b)"
      ],
      "metadata": {
        "id": "IR2VlaVxJRzP",
        "colab": {
          "base_uri": "https://localhost:8080/"
        },
        "outputId": "1e402e07-b0c0-4827-e910-51646836fb39"
      },
      "execution_count": 18,
      "outputs": [
        {
          "output_type": "stream",
          "name": "stdout",
          "text": [
            "2\n",
            "6 12 10\n",
            "402\n",
            "30 50 72\n",
            "1203\n"
          ]
        }
      ]
    },
    {
      "cell_type": "markdown",
      "source": [
        "### 2775. 부녀회장이 될테야"
      ],
      "metadata": {
        "id": "XJroLf6lJSyo"
      }
    },
    {
      "cell_type": "code",
      "source": [
        "t = int(input())\n",
        "for i in range(t):\n",
        "    k = int(input())\n",
        "    n = int(input())\n",
        "    people = [i for i in range(1,n+1)]\n",
        "    for i in range(k):\n",
        "        for j in range(1,n):\n",
        "            people[j] += people[j-1] # k-1층의 1호부터 j-1번째까지 사람 수의 합은 k층의 j-1호의 사람 수와 같음\n",
        "    print(people[n-1])"
      ],
      "metadata": {
        "id": "34cLzy6oJWUC",
        "colab": {
          "base_uri": "https://localhost:8080/"
        },
        "outputId": "c420a8f7-1476-4fc3-f21a-0b719f7bc985"
      },
      "execution_count": 20,
      "outputs": [
        {
          "output_type": "stream",
          "name": "stdout",
          "text": [
            "2\n",
            "1\n",
            "3\n",
            "6\n",
            "2\n",
            "3\n",
            "10\n"
          ]
        }
      ]
    },
    {
      "cell_type": "markdown",
      "source": [
        "### 2839. 설탕 배달"
      ],
      "metadata": {
        "id": "rI_wOv5gJWtn"
      }
    },
    {
      "cell_type": "code",
      "source": [
        "n = int(input())\n",
        "result = 0\n",
        "while n >= 0:\n",
        "    if n % 5 == 0: \n",
        "        print(result + n//5)\n",
        "        break\n",
        "    n -= 3 # 남은 설탕이 5의 배수가 될 때까지 반복\n",
        "    result += 1 # 봉지 수 추가\n",
        "else:\n",
        "    print(-1) # while문이 false가 되면 실행"
      ],
      "metadata": {
        "id": "blTgrQfUJZSw",
        "colab": {
          "base_uri": "https://localhost:8080/"
        },
        "outputId": "1f6bb3ed-6e19-4603-cb76-f6fa71537a13"
      },
      "execution_count": 24,
      "outputs": [
        {
          "output_type": "stream",
          "name": "stdout",
          "text": [
            "18\n",
            "4\n"
          ]
        }
      ]
    },
    {
      "cell_type": "markdown",
      "source": [
        "### 10757. 큰 수 A+B"
      ],
      "metadata": {
        "id": "A0dlBgJhJZok"
      }
    },
    {
      "cell_type": "code",
      "source": [
        "a, b = map(int, input().split())\n",
        "print(a+b)"
      ],
      "metadata": {
        "id": "mla6O7-_Jfu0",
        "colab": {
          "base_uri": "https://localhost:8080/"
        },
        "outputId": "baf630c2-5fa3-491e-8f2a-9b995b2105ff"
      },
      "execution_count": 25,
      "outputs": [
        {
          "output_type": "stream",
          "name": "stdout",
          "text": [
            "9223372036854775807 9223372036854775808\n",
            "18446744073709551615\n"
          ]
        }
      ]
    }
  ]
}