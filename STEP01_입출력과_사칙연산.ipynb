{
  "nbformat": 4,
  "nbformat_minor": 0,
  "metadata": {
    "colab": {
      "provenance": [],
      "authorship_tag": "ABX9TyNX0AYl4rPD08B8wmrMDMWQ",
      "include_colab_link": true
    },
    "kernelspec": {
      "name": "python3",
      "display_name": "Python 3"
    },
    "language_info": {
      "name": "python"
    }
  },
  "cells": [
    {
      "cell_type": "markdown",
      "metadata": {
        "id": "view-in-github",
        "colab_type": "text"
      },
      "source": [
        "<a href=\"https://colab.research.google.com/github/hsu607/BAEKJOON/blob/main/STEP01_%EC%9E%85%EC%B6%9C%EB%A0%A5%EA%B3%BC_%EC%82%AC%EC%B9%99%EC%97%B0%EC%82%B0.ipynb\" target=\"_parent\"><img src=\"https://colab.research.google.com/assets/colab-badge.svg\" alt=\"Open In Colab\"/></a>"
      ]
    },
    {
      "cell_type": "markdown",
      "source": [
        "### 1단계 입출력과 사칙연산(14문제)"
      ],
      "metadata": {
        "id": "tFgy_-SrxrzL"
      }
    },
    {
      "cell_type": "markdown",
      "source": [
        "2557) Hello World"
      ],
      "metadata": {
        "id": "a2Wn7gp-y2fq"
      }
    },
    {
      "cell_type": "code",
      "execution_count": null,
      "metadata": {
        "id": "5A7mIHRrxqzA"
      },
      "outputs": [],
      "source": [
        "print(\"Hello World!\")"
      ]
    },
    {
      "cell_type": "markdown",
      "source": [
        "1000) A+B"
      ],
      "metadata": {
        "id": "Bo60GrNVy5Ju"
      }
    },
    {
      "cell_type": "code",
      "source": [
        "a,b = map(int, input().split())\n",
        "print(a+b)"
      ],
      "metadata": {
        "colab": {
          "base_uri": "https://localhost:8080/"
        },
        "id": "54yqUJ07zEqf",
        "outputId": "ce3f9aab-8600-4524-d3b6-dee797a253a8"
      },
      "execution_count": null,
      "outputs": [
        {
          "output_type": "stream",
          "name": "stdout",
          "text": [
            "1 2\n",
            "3\n"
          ]
        }
      ]
    },
    {
      "cell_type": "markdown",
      "source": [
        "1001) A-B"
      ],
      "metadata": {
        "id": "zU6vSIUtzE-t"
      }
    },
    {
      "cell_type": "code",
      "source": [
        "a, b = map(int, input().split())\n",
        "print(a-b)"
      ],
      "metadata": {
        "colab": {
          "base_uri": "https://localhost:8080/"
        },
        "id": "PDLgyTR-zIxw",
        "outputId": "7a70a972-c3a4-40cb-8c10-42bed67d2e8a"
      },
      "execution_count": null,
      "outputs": [
        {
          "output_type": "stream",
          "name": "stdout",
          "text": [
            "3 2\n",
            "1\n"
          ]
        }
      ]
    },
    {
      "cell_type": "markdown",
      "source": [
        "10998) AXB"
      ],
      "metadata": {
        "id": "6QX672erzJI6"
      }
    },
    {
      "cell_type": "code",
      "source": [
        "a, b = map(int, input().split())\n",
        "print(a*b)"
      ],
      "metadata": {
        "colab": {
          "base_uri": "https://localhost:8080/"
        },
        "id": "YQ79N3qnzLYP",
        "outputId": "3fce9da3-61c1-4c69-a18a-6619c0d66cef"
      },
      "execution_count": null,
      "outputs": [
        {
          "output_type": "stream",
          "name": "stdout",
          "text": [
            "1 2\n",
            "2\n"
          ]
        }
      ]
    },
    {
      "cell_type": "markdown",
      "source": [
        "1008) A/B"
      ],
      "metadata": {
        "id": "MB_f_AD3zNf5"
      }
    },
    {
      "cell_type": "code",
      "source": [
        "a, b = map(int, input().split())\n",
        "print(a/b)"
      ],
      "metadata": {
        "colab": {
          "base_uri": "https://localhost:8080/"
        },
        "id": "0SbeUVKDzO9J",
        "outputId": "e4ee7822-b22d-4648-efbe-7a562af5faa5"
      },
      "execution_count": null,
      "outputs": [
        {
          "output_type": "stream",
          "name": "stdout",
          "text": [
            "1 3\n",
            "0.3333333333333333\n"
          ]
        }
      ]
    },
    {
      "cell_type": "markdown",
      "source": [
        "10869) 사칙연산"
      ],
      "metadata": {
        "id": "BKaBCxrozPRd"
      }
    },
    {
      "cell_type": "code",
      "source": [
        "a, b = map(int, input().split())\n",
        "print(a+b)\n",
        "print(a-b)\n",
        "print(a*b)\n",
        "print(a//b)\n",
        "print(a%b)"
      ],
      "metadata": {
        "colab": {
          "base_uri": "https://localhost:8080/"
        },
        "id": "0heXD_nzzUgu",
        "outputId": "4c74eeca-2141-43bd-ecda-658c4a4cf095"
      },
      "execution_count": null,
      "outputs": [
        {
          "output_type": "stream",
          "name": "stdout",
          "text": [
            "7 3\n",
            "10\n",
            "4\n",
            "21\n",
            "2\n",
            "1\n"
          ]
        }
      ]
    },
    {
      "cell_type": "markdown",
      "source": [
        "10926) ??!"
      ],
      "metadata": {
        "id": "0_adRxOqzU36"
      }
    },
    {
      "cell_type": "code",
      "source": [
        "print(input() + \"??!\")"
      ],
      "metadata": {
        "colab": {
          "base_uri": "https://localhost:8080/"
        },
        "id": "p6Vqke-ezWR0",
        "outputId": "e051e161-6934-40f3-fd17-08c214d4432b"
      },
      "execution_count": null,
      "outputs": [
        {
          "output_type": "stream",
          "name": "stdout",
          "text": [
            "joonas\n",
            "joonas??!\n"
          ]
        }
      ]
    },
    {
      "cell_type": "markdown",
      "source": [
        "18108) 1998년생인 내가 태국에서는 2541년생?!"
      ],
      "metadata": {
        "id": "6aa9iKUZzZPW"
      }
    },
    {
      "cell_type": "code",
      "source": [
        "print(int(input()) - 543)"
      ],
      "metadata": {
        "colab": {
          "base_uri": "https://localhost:8080/"
        },
        "id": "ePNjDXvmzZ0a",
        "outputId": "ed379ca4-7f95-46b5-b3d3-11b8b65909ea"
      },
      "execution_count": null,
      "outputs": [
        {
          "output_type": "stream",
          "name": "stdout",
          "text": [
            "2541\n",
            "1998\n"
          ]
        }
      ]
    },
    {
      "cell_type": "markdown",
      "source": [
        "3003) 킹, 퀸, 룩, 비숍, 나이트, 폰"
      ],
      "metadata": {
        "id": "hrVCKX8Hzc2e"
      }
    },
    {
      "cell_type": "code",
      "source": [
        "a,b,c,d,e,f = map(int,input().split())\n",
        "print(1-a, 1-b, 2-c, 2-d, 2-e, 8-f)"
      ],
      "metadata": {
        "colab": {
          "base_uri": "https://localhost:8080/"
        },
        "id": "qH_FmtZ5zdeB",
        "outputId": "b66505b8-09dc-4e52-ce52-82a21a5753af"
      },
      "execution_count": null,
      "outputs": [
        {
          "output_type": "stream",
          "name": "stdout",
          "text": [
            "0 1 2 2 2 7\n",
            "1 0 0 0 0 1\n"
          ]
        }
      ]
    },
    {
      "cell_type": "markdown",
      "source": [
        "10430) 나머지"
      ],
      "metadata": {
        "id": "hz0moSCVzfx5"
      }
    },
    {
      "cell_type": "code",
      "source": [
        "A, B, C = map(int, input().split())\n",
        "print((A+B)%C, ((A%C) + (B%C))%C, (A*B)%C, ((A%C) * (B%C))%C, sep = '\\n')"
      ],
      "metadata": {
        "id": "VNBHMtLLzgRA",
        "colab": {
          "base_uri": "https://localhost:8080/"
        },
        "outputId": "2bf37980-0c23-4200-e3ef-e8b6b5c59180"
      },
      "execution_count": null,
      "outputs": [
        {
          "output_type": "stream",
          "name": "stdout",
          "text": [
            "5 8 4\n",
            "1\n",
            "1\n",
            "0\n",
            "0\n"
          ]
        }
      ]
    },
    {
      "cell_type": "markdown",
      "source": [
        "2588) 곱셈"
      ],
      "metadata": {
        "id": "w3uiLOoBzgou"
      }
    },
    {
      "cell_type": "code",
      "source": [
        "A = int(input())\n",
        "B = input()\n",
        "print(A*int(B[2]), A*int(B[1]), A*int(B[0]), A*int(B), sep = '\\n')  "
      ],
      "metadata": {
        "id": "zdWXYu1rzijc",
        "colab": {
          "base_uri": "https://localhost:8080/"
        },
        "outputId": "85410999-4363-4590-d3f7-ad53daa559ef"
      },
      "execution_count": null,
      "outputs": [
        {
          "output_type": "stream",
          "name": "stdout",
          "text": [
            "482\n",
            "375\n",
            "2410\n",
            "3374\n",
            "1446\n",
            "180750\n"
          ]
        }
      ]
    },
    {
      "cell_type": "markdown",
      "source": [
        "10171) 고양이"
      ],
      "metadata": {
        "id": "jxC8kvlRzi1w"
      }
    },
    {
      "cell_type": "code",
      "source": [
        "print(\"\\\\    /\\\\\", \" )  ( ')\", \"(  /  )\", \" \\\\(__)|\", sep = \"\\n\")"
      ],
      "metadata": {
        "id": "NkRf9RJ_zkjh",
        "colab": {
          "base_uri": "https://localhost:8080/"
        },
        "outputId": "1433a43e-d6f2-4adc-ab65-2ea6bef24c97"
      },
      "execution_count": null,
      "outputs": [
        {
          "output_type": "stream",
          "name": "stdout",
          "text": [
            "\\    /\\\n",
            " )  ( ')\n",
            "(  /  )\n",
            " \\(__)|\n"
          ]
        }
      ]
    },
    {
      "cell_type": "markdown",
      "source": [
        "10172) 개"
      ],
      "metadata": {
        "id": "rB3jU6KVzk32"
      }
    },
    {
      "cell_type": "code",
      "source": [
        "print('|\\\\_/|')\n",
        "print('|q p|   /}')\n",
        "print('( 0 )\"\"\"\\\\')\n",
        "print('|\"^\"`    |')\n",
        "print('||_/=\\\\\\__|')"
      ],
      "metadata": {
        "id": "NjqrVMkdzl8Y",
        "colab": {
          "base_uri": "https://localhost:8080/"
        },
        "outputId": "a70f33bd-b4a9-4f11-b541-d12bc868983e"
      },
      "execution_count": null,
      "outputs": [
        {
          "output_type": "stream",
          "name": "stdout",
          "text": [
            "|\\_/|\n",
            "|q p|   /}\n",
            "( 0 )\"\"\"\\\n",
            "|\"^\"`    |\n",
            "||_/=\\\\__|\n"
          ]
        }
      ]
    },
    {
      "cell_type": "markdown",
      "source": [
        "25083) 새싹"
      ],
      "metadata": {
        "id": "-fpoc8Yizmpa"
      }
    },
    {
      "cell_type": "code",
      "source": [
        "print('''         ,r'\"7''')\n",
        "print('''r`-_   ,'  ,/''')\n",
        "print(\"\"\" \\. \". L_r'\"\"\")\n",
        "print('   `~\\/')\n",
        "print('      |')\n",
        "print('      |')"
      ],
      "metadata": {
        "id": "7EGCMgjezo3J",
        "colab": {
          "base_uri": "https://localhost:8080/"
        },
        "outputId": "a218d731-82ec-4b76-b588-59b5ca979462"
      },
      "execution_count": null,
      "outputs": [
        {
          "output_type": "stream",
          "name": "stdout",
          "text": [
            "         ,r'\"7\n",
            "r`-_   ,'  ,/\n",
            " \\. \". L_r'\n",
            "   `~\\/\n",
            "      |\n",
            "      |\n"
          ]
        }
      ]
    }
  ]
}