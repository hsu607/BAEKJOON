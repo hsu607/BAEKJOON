{
  "nbformat": 4,
  "nbformat_minor": 0,
  "metadata": {
    "colab": {
      "provenance": [],
      "authorship_tag": "ABX9TyMpSaLNaDP/Ka7OCO6ERkAb",
      "include_colab_link": true
    },
    "kernelspec": {
      "name": "python3",
      "display_name": "Python 3"
    },
    "language_info": {
      "name": "python"
    }
  },
  "cells": [
    {
      "cell_type": "markdown",
      "metadata": {
        "id": "view-in-github",
        "colab_type": "text"
      },
      "source": [
        "<a href=\"https://colab.research.google.com/github/hsu607/BAEKJOON/blob/main/STEP08_%EA%B8%B0%EB%B3%B8_%EC%88%98%ED%95%99_2.ipynb\" target=\"_parent\"><img src=\"https://colab.research.google.com/assets/colab-badge.svg\" alt=\"Open In Colab\"/></a>"
      ]
    },
    {
      "cell_type": "markdown",
      "source": [
        "## 8단계 기본 수학 2(6문제)"
      ],
      "metadata": {
        "id": "uitM-vJJJIoU"
      }
    },
    {
      "cell_type": "markdown",
      "source": [
        "### 1978. 소수 찾기"
      ],
      "metadata": {
        "id": "qn68SyimJNgT"
      }
    },
    {
      "cell_type": "code",
      "execution_count": 7,
      "metadata": {
        "colab": {
          "base_uri": "https://localhost:8080/"
        },
        "id": "A8-Dl9n9JFSc",
        "outputId": "04fca82e-e2b8-4328-c889-3a53c5954b3d"
      },
      "outputs": [
        {
          "output_type": "stream",
          "name": "stdout",
          "text": [
            "4\n",
            "1 3 5 7\n",
            "3\n"
          ]
        }
      ],
      "source": [
        "n = int(input())\n",
        "s = list(map(int, input().split()))\n",
        "cnt = n\n",
        "for i in s:\n",
        "    if i == 1:\n",
        "        cnt -= 1\n",
        "    for j in range(2, i):\n",
        "        if i % j == 0:\n",
        "            cnt -= 1\n",
        "            break\n",
        "print(cnt)"
      ]
    },
    {
      "cell_type": "markdown",
      "source": [
        "### 2581. 소수"
      ],
      "metadata": {
        "id": "ymqmNUN7JVOI"
      }
    },
    {
      "cell_type": "code",
      "source": [
        "m = int(input())\n",
        "n = int(input())\n",
        "pn = []\n",
        "for i in range(m, n+1):\n",
        "    check = 0\n",
        "    if i == 1:\n",
        "        continue    # 다음 순번 루프 실행\n",
        "    for j in range(2, i):\n",
        "        if i % j == 0:\n",
        "            check = 1\n",
        "            break\n",
        "    if check == 0:\n",
        "        pn.append(i)\n",
        "if pn == []:\n",
        "    print(-1)\n",
        "else:\n",
        "    print(sum(pn))\n",
        "    print(min(pn))"
      ],
      "metadata": {
        "colab": {
          "base_uri": "https://localhost:8080/"
        },
        "id": "3Dt89tGeJYkp",
        "outputId": "770a59c8-91a9-4e02-b6f8-c912eb5beed1"
      },
      "execution_count": 21,
      "outputs": [
        {
          "output_type": "stream",
          "name": "stdout",
          "text": [
            "60\n",
            "100\n",
            "620\n",
            "61\n"
          ]
        }
      ]
    },
    {
      "cell_type": "markdown",
      "source": [
        "### 11653. 소인수분해"
      ],
      "metadata": {
        "id": "mLsWBgn5JY2i"
      }
    },
    {
      "cell_type": "code",
      "source": [
        "n = int(input())\n",
        "for i in range(2, n+1):\n",
        "    while True:\n",
        "        if n % i == 0:\n",
        "            print(i)\n",
        "            n /= i\n",
        "        else:\n",
        "            break"
      ],
      "metadata": {
        "colab": {
          "base_uri": "https://localhost:8080/"
        },
        "id": "bylfgNBdJcbB",
        "outputId": "ca72c346-b988-4992-fd41-e5aa08ecf14b"
      },
      "execution_count": 23,
      "outputs": [
        {
          "output_type": "stream",
          "name": "stdout",
          "text": [
            "72\n",
            "2\n",
            "2\n",
            "2\n",
            "3\n",
            "3\n"
          ]
        }
      ]
    },
    {
      "cell_type": "markdown",
      "source": [
        "### 1929. 소수 구하기"
      ],
      "metadata": {
        "id": "hGhYn3raJcsw"
      }
    },
    {
      "cell_type": "code",
      "source": [
        "# 시간 초과되는 코드\n",
        "m, n = map(int, input().split())\n",
        "for i in range(m, n+1):\n",
        "    check = 0\n",
        "    if i == 1:\n",
        "        continue    # 다음 순번 루프 실행\n",
        "    for j in range(2, i):\n",
        "        if i % j == 0:\n",
        "            check = 1\n",
        "            break\n",
        "    if check == 0:\n",
        "        print(i)"
      ],
      "metadata": {
        "colab": {
          "base_uri": "https://localhost:8080/"
        },
        "id": "NeDlnk_2JrmF",
        "outputId": "1c85ff54-3d72-4785-a280-624cfb514c80"
      },
      "execution_count": 25,
      "outputs": [
        {
          "output_type": "stream",
          "name": "stdout",
          "text": [
            "3 16\n",
            "3\n",
            "5\n",
            "7\n",
            "11\n",
            "13\n"
          ]
        }
      ]
    },
    {
      "cell_type": "code",
      "source": [
        "# 에라토스테네스의 체를 사용하여 소수 구하기\n",
        "m, n = map(int, input().split())\n",
        "for i in range(m, n+1):\n",
        "    check = 0\n",
        "    if i == 1:\n",
        "        continue    # 다음 순번 루프 실행\n",
        "    for j in range(2, int(i**0.5)+1):\n",
        "        if i % j == 0:\n",
        "            check = 1\n",
        "            break\n",
        "    if check == 0:\n",
        "        print(i)"
      ],
      "metadata": {
        "colab": {
          "base_uri": "https://localhost:8080/"
        },
        "id": "tzqGhu2MidP8",
        "outputId": "34e332fc-7a37-4a53-d2ff-03365b2f5f9d"
      },
      "execution_count": 31,
      "outputs": [
        {
          "output_type": "stream",
          "name": "stdout",
          "text": [
            "3 16\n",
            "3\n",
            "5\n",
            "7\n",
            "11\n",
            "13\n"
          ]
        }
      ]
    },
    {
      "cell_type": "markdown",
      "source": [
        "### 4948. 베르트랑 공준"
      ],
      "metadata": {
        "id": "h_9guAmPJi2S"
      }
    },
    {
      "cell_type": "code",
      "source": [
        "# 시간 초과된 코드\n",
        "while True:\n",
        "    n = int(input())\n",
        "    if n == 0:\n",
        "        break\n",
        "    cnt = 0 \n",
        "    for i in range(n+1, 2*n+1):\n",
        "        for j in range(2, int(i**0.5)+1):\n",
        "            if i % j == 0:\n",
        "                break\n",
        "        else:\n",
        "            cnt += 1\n",
        "    print(cnt)"
      ],
      "metadata": {
        "colab": {
          "base_uri": "https://localhost:8080/"
        },
        "id": "r7pLrrt4JfT6",
        "outputId": "3c0e4e2c-1393-4477-cbe3-0d188995aeb1"
      },
      "execution_count": 38,
      "outputs": [
        {
          "name": "stdout",
          "output_type": "stream",
          "text": [
            "1\n",
            "1\n",
            "10\n",
            "4\n",
            "13\n",
            "3\n",
            "100\n",
            "21\n",
            "1000\n",
            "135\n",
            "10000\n",
            "1033\n",
            "100000\n",
            "8392\n",
            "0\n"
          ]
        }
      ]
    },
    {
      "cell_type": "code",
      "source": [],
      "metadata": {
        "id": "mjd8NTjiwBIJ"
      },
      "execution_count": null,
      "outputs": []
    },
    {
      "cell_type": "markdown",
      "source": [
        "### 9020. 골드바흐의 추측"
      ],
      "metadata": {
        "id": "FyiewDi6Jl3G"
      }
    },
    {
      "cell_type": "code",
      "source": [],
      "metadata": {
        "id": "s1Lokj5sJpIL"
      },
      "execution_count": null,
      "outputs": []
    }
  ]
}