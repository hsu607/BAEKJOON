{
  "nbformat": 4,
  "nbformat_minor": 0,
  "metadata": {
    "colab": {
      "provenance": [],
      "authorship_tag": "ABX9TyPNnQl3M+UMhVi9RAZytydS",
      "include_colab_link": true
    },
    "kernelspec": {
      "name": "python3",
      "display_name": "Python 3"
    },
    "language_info": {
      "name": "python"
    }
  },
  "cells": [
    {
      "cell_type": "markdown",
      "metadata": {
        "id": "view-in-github",
        "colab_type": "text"
      },
      "source": [
        "<a href=\"https://colab.research.google.com/github/hsu607/BAEKJOON/blob/main/STEP02_%EC%A1%B0%EA%B1%B4%EB%AC%B8.ipynb\" target=\"_parent\"><img src=\"https://colab.research.google.com/assets/colab-badge.svg\" alt=\"Open In Colab\"/></a>"
      ]
    },
    {
      "cell_type": "markdown",
      "source": [
        "### 2단계 조건문(7문제)"
      ],
      "metadata": {
        "id": "J9yzxI6A48oi"
      }
    },
    {
      "cell_type": "markdown",
      "source": [
        "1330) 두 수 비교하기"
      ],
      "metadata": {
        "id": "HJBU_Vna5FWk"
      }
    },
    {
      "cell_type": "code",
      "execution_count": null,
      "metadata": {
        "colab": {
          "base_uri": "https://localhost:8080/"
        },
        "id": "u1dAUy5Z45ke",
        "outputId": "db9a2d3c-105c-4a96-b2e1-c581beff741c"
      },
      "outputs": [
        {
          "output_type": "stream",
          "name": "stdout",
          "text": [
            "1 2\n",
            "<\n"
          ]
        }
      ],
      "source": [
        "A, B = map(int, input().split())\n",
        "if A > B:\n",
        "    print('>')\n",
        "elif A < B:\n",
        "    print('<')\n",
        "else:\n",
        "    print('==')"
      ]
    },
    {
      "cell_type": "markdown",
      "source": [
        "9498) 시험 성적"
      ],
      "metadata": {
        "id": "vFzkbjJk5LMp"
      }
    },
    {
      "cell_type": "code",
      "source": [
        "x = int(input())\n",
        "if x >= 90:\n",
        "    print('A')\n",
        "elif x >= 80:\n",
        "    print('B')\n",
        "elif x >= 70:\n",
        "    print('C')\n",
        "elif x >= 60:\n",
        "    print('D')\n",
        "else:\n",
        "    print('F')"
      ],
      "metadata": {
        "colab": {
          "base_uri": "https://localhost:8080/"
        },
        "id": "TF7LyLxV5L9z",
        "outputId": "72f78f86-3fe9-4c8f-d0fa-a3f47451def8"
      },
      "execution_count": null,
      "outputs": [
        {
          "output_type": "stream",
          "name": "stdout",
          "text": [
            "90\n",
            "A\n"
          ]
        }
      ]
    },
    {
      "cell_type": "markdown",
      "source": [
        "2753) 윤년"
      ],
      "metadata": {
        "id": "umoPWhpj5OCd"
      }
    },
    {
      "cell_type": "code",
      "source": [
        "x = int(input())\n",
        "if ((x % 4 == 0) & (x % 100 != 0)) | (x % 400 == 0):\n",
        "    print(1)\n",
        "else:\n",
        "    print(0)"
      ],
      "metadata": {
        "id": "7v91330c5OpQ",
        "colab": {
          "base_uri": "https://localhost:8080/"
        },
        "outputId": "b41a5e16-f3cf-4e8d-cac1-e3da08fc10d8"
      },
      "execution_count": null,
      "outputs": [
        {
          "output_type": "stream",
          "name": "stdout",
          "text": [
            "2000\n",
            "1\n"
          ]
        }
      ]
    },
    {
      "cell_type": "markdown",
      "source": [
        "14681) 사분면 고르기"
      ],
      "metadata": {
        "id": "ukNrvgUK5QjN"
      }
    },
    {
      "cell_type": "code",
      "source": [
        "A = int(input())\n",
        "B = int(input())\n",
        "if (A > 0) & (B > 0):\n",
        "    print(1)\n",
        "elif (A < 0) & (B > 0):\n",
        "    print(2)\n",
        "elif (A < 0) & (B < 0):\n",
        "    print(3)\n",
        "else:\n",
        "    print(4)"
      ],
      "metadata": {
        "colab": {
          "base_uri": "https://localhost:8080/"
        },
        "id": "YZ3eLcGg5RBV",
        "outputId": "d1379c8b-1a49-49a5-c6ca-c2a9d3ed4826"
      },
      "execution_count": null,
      "outputs": [
        {
          "output_type": "stream",
          "name": "stdout",
          "text": [
            "9\n",
            "-13\n",
            "4\n"
          ]
        }
      ]
    },
    {
      "cell_type": "markdown",
      "source": [
        "2884) 알람 시계"
      ],
      "metadata": {
        "id": "mSI6hulj5S34"
      }
    },
    {
      "cell_type": "code",
      "source": [
        "H, M = map(int, input().split())\n",
        "if M < 45:\n",
        "    if H == 0:\n",
        "        H = 23\n",
        "        M = M + 15\n",
        "    else:    \n",
        "        H = H -1\n",
        "        M = M + 15\n",
        "else:\n",
        "    M = M - 45\n",
        "print(H, M, end = \"\")"
      ],
      "metadata": {
        "colab": {
          "base_uri": "https://localhost:8080/"
        },
        "id": "oAoy5zBT5TZB",
        "outputId": "ed7b8009-e97b-4e77-b22b-5e3457ed71fa"
      },
      "execution_count": null,
      "outputs": [
        {
          "output_type": "stream",
          "name": "stdout",
          "text": [
            "23 40\n",
            "22 55"
          ]
        }
      ]
    },
    {
      "cell_type": "markdown",
      "source": [
        "2525) 오븐 시계"
      ],
      "metadata": {
        "id": "s2pYrO2N5U4V"
      }
    },
    {
      "cell_type": "code",
      "source": [
        "A, B = map(int, input().split())\n",
        "C = int(input())\n",
        "hour = A + (B+C)//60\n",
        "min = (B+C)%60\n",
        "print(hour%24, min)"
      ],
      "metadata": {
        "colab": {
          "base_uri": "https://localhost:8080/"
        },
        "id": "UNsQYAy25Vcy",
        "outputId": "07b9c53a-228d-48c5-de4d-9591cc72cfc6"
      },
      "execution_count": null,
      "outputs": [
        {
          "output_type": "stream",
          "name": "stdout",
          "text": [
            "23 48\n",
            "25\n",
            "0 13\n"
          ]
        }
      ]
    },
    {
      "cell_type": "markdown",
      "source": [
        "2480) 주사위 세개"
      ],
      "metadata": {
        "id": "uE9MrXbW5V2W"
      }
    },
    {
      "cell_type": "code",
      "source": [
        "A, B, C = map(int, input().split())\n",
        "if A == B == C:\n",
        "    print(10000+A*1000)\n",
        "elif A == B or A == C:\n",
        "    print(1000+A*100)\n",
        "elif B == C:\n",
        "    print(1000+B*100)\n",
        "else:\n",
        "    print(100*max(A,B,C))"
      ],
      "metadata": {
        "colab": {
          "base_uri": "https://localhost:8080/"
        },
        "id": "6HsCNZyu5XyB",
        "outputId": "fa0f6dbe-665a-4f1e-bf62-7fa94555487b"
      },
      "execution_count": null,
      "outputs": [
        {
          "output_type": "stream",
          "name": "stdout",
          "text": [
            "3 3 6\n",
            "1300\n"
          ]
        }
      ]
    }
  ]
}